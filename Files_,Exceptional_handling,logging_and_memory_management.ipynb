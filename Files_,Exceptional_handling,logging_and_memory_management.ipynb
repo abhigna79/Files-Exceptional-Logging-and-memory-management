{
  "nbformat": 4,
  "nbformat_minor": 0,
  "metadata": {
    "colab": {
      "provenance": []
    },
    "kernelspec": {
      "name": "python3",
      "display_name": "Python 3"
    },
    "language_info": {
      "name": "python"
    }
  },
  "cells": [
    {
      "cell_type": "code",
      "execution_count": null,
      "metadata": {
        "id": "rdco-BZ4Fwcf"
      },
      "outputs": [],
      "source": []
    },
    {
      "cell_type": "markdown",
      "source": [
        "##Files, exceptional handling, logging and memory management Questions"
      ],
      "metadata": {
        "id": "I0VRx7nGGjOn"
      }
    },
    {
      "cell_type": "markdown",
      "source": [
        "1. What is the difference between interpreted and compiled languages?\n",
        "   - Interpreted Languages:\n",
        "     - Execution Process: The source code is translated line-by-line or statement-by-statement by an interpreter at runtime.\n",
        "    - Speed: Usually slower because translation happens during execution.\n",
        "Flexibility: Easier to debug and modify since execution happens line by line.\n",
        "    - Examples: Python, JavaScript, Ruby, PHP.\n",
        "    \n",
        "    - Compiled Languages:\n",
        "    - Compilation Process: The entire source code is translated into machine code (binary) by a compiler before execution.\n",
        "    - Execution: The compiled program can be run directly by the computer without needing the original source code or a compiler.\n",
        "    - Speed: Generally faster since machine code is pre-generated.\n",
        "    - Examples: C, C++, Rust, Go.\n",
        "\n",
        "2. What is exception handling in Python?\n",
        "   - Exception handling in Python is a mechanism used to manage and respond to runtime errors (exceptions) gracefully, preventing a program from crashing unexpectedly.\n",
        "\n",
        "3. What is the purpose of the finally block in exception handling?\n",
        "   - The finally block in Python is used to define code that always executes, regardless of whether an exception occurs or not. It is typically used for cleanup actions, such as closing files, releasing resources, or freeing up memory.\n",
        "\n",
        "4. What is logging in Python?\n",
        "   - Logging in Python is a way to track events that happen when a program runs. It helps developers debug, monitor, and analyze the behavior of applications by recording messages at different levels of severity.\n",
        "\n",
        "5. What is the significance of the __del__ method in Python?\n",
        "   - The __del__ method in Python is called when an object is about to be destroyed. It acts as a destructor, allowing you to define cleanup tasks such as closing files, releasing resources, or logging messages before an object is removed from memory.\n",
        "\n",
        "6. What is the difference between import and from ... import in Python?\n",
        "   - import Statement:This imports the entire module, and you must use the module name to access its functions or variables.\n",
        "\n",
        "   -  from ... import Statement:This imports specific functions, classes, or variables from a module, allowing you to use them directly without the module prefix.\n",
        "\n",
        "7. How can you handle multiple exceptions in Python?\n",
        "   - Python allows handling multiple exceptions using different approaches. This is useful when a program might encounter various types of errors during execution.\n",
        "\n",
        "8. What is the purpose of the with statement when handling files in Python?\n",
        "   - The with statement in Python is used for automatic resource management, ensuring that files are properly opened, used, and closed without requiring explicit calls to close(). It simplifies file handling and prevents potential issues like memory leaks or file corruption.\n",
        "\n",
        "9. What is the difference between multithreading and multiprocessing?\n",
        "   - Both multithreading and multiprocessing are used to execute multiple tasks concurrently in Python, but they work in different ways and are suited for different use cases.\n",
        "   - Multithreading: Multithreading allows multiple threads (smaller units of a process) to run concurrently within the same process. However, due to Python’s Global Interpreter Lock (GIL), only one thread executes Python code at a time.\n",
        "\n",
        "   - Multiprocessing: Multiprocessing creates separate processes, each with its own memory space. This allows Python programs to bypass the GIL, enabling true parallel execution.\n",
        "\n",
        "10. What are the advantages of using logging in a program?\n",
        "    - Logging is a powerful tool for tracking and debugging in software development. By using logging in your programs, you gain several key advantages over relying on other methods (like print() statements).\n",
        "    - Improved Debugging and Troubleshooting\n",
        "    - Log Level Control for selective logging\n",
        "    - Real-time Monitoring and Automated Alerts\n",
        "    - Easy Storage and Retrieval of Log Information\n",
        "    - Non-Intrusive and Production-Friendly\n",
        "    - Team Collaboration and Audit Trails\n",
        "    - Performance Monitoring\n",
        "    - Highly Configurable\n",
        "\n",
        "11. What is memory management in Python?\n",
        "    - Memory management in Python refers to the process of efficiently allocating and deallocating memory for variables, objects, and data structures. Python uses an automatic memory management system to handle memory, which helps developers avoid issues related to manual memory allocation (common in languages like C or C++). The key components involved in Python's memory management are memory allocation, garbage collection, and object reference counting.\n",
        "\n",
        "12. What are the basic steps involved in exception handling in Python?\n",
        "    - Exception handling in Python involves a mechanism to catch and handle errors (exceptions) that may occur during program execution, ensuring that the program doesn't crash unexpectedly. The basic structure for exception handling in Python includes try, except, else, and finally blocks.\n",
        "\n",
        "13. Why is memory management important in Python?\n",
        "    - Memory management is a crucial aspect of any programming language, and in Python, it plays a key role in ensuring that your program runs efficiently and reliably. Effective memory management allows for optimal performance, prevents memory leaks, and reduces the risk of crashes, making it especially important when working with large datasets or long-running applications.\n",
        "\n",
        "14. What is the role of try and except in exception handling?\n",
        "    - The Role of the try Block: The try block is used to write code that may raise an exception (error) during execution. By placing potentially problematic code inside a try block, Python will attempt to execute it. If no exceptions are raised, the program continues as usual. If an exception occurs, Python immediately stops executing the code inside the try block and jumps to the corresponding except block (if it exists).\n",
        "\n",
        "    -  The Role of the except Block: The except block handles exceptions that are raised inside the try block. It allows you to specify how the program should respond to a specific error. You can catch specific exceptions or catch all exceptions using a generic except block.\n",
        "\n",
        "15. How does Python's garbage collection system work?\n",
        "    - Python’s garbage collection system is designed to automatically manage memory by reclaiming unused memory and preventing memory leaks. The garbage collector frees memory occupied by objects that are no longer in use, which helps keep the program’s memory usage efficient and stable.\n",
        "    - Reference counting to deallocate memory for objects with no references.\n",
        "    - Generational garbage collection for efficient cleanup of short-lived objects.\n",
        "    - Circular reference detection to handle cases where objects reference each other in a cycle.\n",
        "\n",
        "16. What is the purpose of the else block in exception handling?\n",
        "    - The else block in Python’s exception handling is an optional block that runs only if no exceptions are raised in the try block. It provides a way to specify code that should execute when the try block completes successfully (without any errors).\n",
        "\n",
        "17. What are the common logging levels in Python?\n",
        "    - The logging module provides a flexible framework for emitting log messages from your code. These log messages can be categorized by their severity or importance, and each category is associated with a logging level. Logging levels help developers and systems distinguish between different types of events (e.g., debug information, warnings, or critical errors).\n",
        "\n",
        "18. What is the difference between os.fork() and multiprocessing in Python?\n",
        "    -  os.fork():This is a low-level system call that creates a new process by duplicating the current process. It is primarily available on Unix-based systems (like Linux and macOS) and does not work on Windows.\n",
        "\n",
        "    - multiprocessing Module: The multiprocessing module is a higher-level abstraction in Python that simplifies the process of creating and managing separate processes. It is available on all major platforms, including Windows, macOS, and Linux.\n",
        "\n",
        "19. What is the importance of closing a file in Python?\n",
        "    - Closing a file in Python is an important practice for several reasons, primarily related to resource management, data integrity, and program performance.\n",
        "    - Always close files after you’re done working with them, or use the with statement to handle files safely, as it automatically closes them when you're done.\n",
        "\n",
        "20. What is the difference between file.read() and file.readline() in Python?\n",
        "    - file.read():\n",
        "    - Reads the entire contents of the file as a single string.\n",
        "    - It doesn't stop until it has read everything in the file.\n",
        "    - You can pass an argument to read(size) to limit the number of bytes (or characters) it reads.\n",
        "\n",
        "    - file.readline():\n",
        "    - Reads the next line from the file as a string.\n",
        "    - It reads until it encounters a newline character (\\n) or the end of the file.\n",
        "    - Each call to readline() gives you one line at a time.\n",
        "\n",
        "21. What is the logging module in Python used for?\n",
        "    - The logging module in Python is used for tracking events, errors, and other important information during the execution of a program. It provides a flexible way to log messages from your application, which can be useful for debugging, monitoring, and recording various actions or events.\n",
        "\n",
        "22. What is the os module in Python used for in file handling?\n",
        "    - he os module in Python provides a way to interact with the operating system and perform various tasks related to file and directory manipulation. It is widely used in file handling because it allows you to work with the file system, check for file existence, move or delete files, and get file properties.\n",
        "\n",
        "23. What are the challenges associated with memory management in Python?\n",
        "    - Memory management in Python comes with its own set of challenges, particularly because Python is a high-level language that abstracts away much of the underlying memory handling. This abstraction provides ease of use but can lead to various issues in terms of efficiency, performance, and resource management.\n",
        "    - some of the key challenges associated with memory management in Python:\n",
        "    - Garbage Collection and Cyclic References\n",
        "    -  Memory Overhead\n",
        "    - Reference Counting\n",
        "    - Large Data Structures\n",
        "    - Memory Profiling and Debugging\n",
        "\n",
        "24. How do you raise an exception manually in Python?\n",
        "    - In Python, you can manually raise an exception using the raise keyword. You can either raise a built-in exception or a custom one that you define.\n",
        "\n",
        "25. Why is it important to use multithreading in certain applications?\n",
        "    - Multithreading is important in certain applications because it allows multiple tasks or operations to be executed concurrently, taking advantage of modern multi-core processors. This can lead to significant performance improvements and better resource utilization.\n",
        "\n",
        "\n",
        "\n",
        "\n",
        "\n",
        "\n",
        "\n",
        "\n",
        "\n",
        "\n",
        "\n",
        "\n",
        "\n",
        "\n",
        "\n",
        "\n"
      ],
      "metadata": {
        "id": "u9-H49o8G0XU"
      }
    },
    {
      "cell_type": "markdown",
      "source": [
        "#Practical Questions"
      ],
      "metadata": {
        "id": "ANijjQXNU4lC"
      }
    },
    {
      "cell_type": "markdown",
      "source": [
        "1.  How can you open a file for writing in Python and write a string to it?"
      ],
      "metadata": {
        "id": "sTodj9I1VGZm"
      }
    },
    {
      "cell_type": "code",
      "source": [
        "# Open the file for writing (this will create the file if it doesn't exist)\n",
        "with open('example.txt', 'w') as file:\n",
        "    # Write a string to the file\n",
        "    file.write(\"Hello, this is a string written to the file.\")\n"
      ],
      "metadata": {
        "id": "MJQmxZzfVMk4"
      },
      "execution_count": 1,
      "outputs": []
    },
    {
      "cell_type": "markdown",
      "source": [
        "2. Write a Python program to read the contents of a file and print each line?"
      ],
      "metadata": {
        "id": "2laPnVO9VVIx"
      }
    },
    {
      "cell_type": "code",
      "source": [
        "# Open the file for reading\n",
        "with open('example.txt', 'r') as file:\n",
        "    # Iterate over each line in the file\n",
        "    for line in file:\n",
        "        # Print each line (line is already a string, so it can be printed directly)\n",
        "        print(line, end='')  # 'end' is used to avoid double newlines from the print function\n"
      ],
      "metadata": {
        "colab": {
          "base_uri": "https://localhost:8080/"
        },
        "id": "hTQ9QKpgVaQw",
        "outputId": "f433eb5e-d7d6-4f19-d31b-fa0de5d67c44"
      },
      "execution_count": 2,
      "outputs": [
        {
          "output_type": "stream",
          "name": "stdout",
          "text": [
            "Hello, this is a string written to the file."
          ]
        }
      ]
    },
    {
      "cell_type": "code",
      "source": [],
      "metadata": {
        "id": "YzIJbFaAUzxp"
      },
      "execution_count": null,
      "outputs": []
    },
    {
      "cell_type": "markdown",
      "source": [
        "3. How would you handle a case where the file doesn't exist while trying to open it for reading?"
      ],
      "metadata": {
        "id": "ozFJnyn1VgoF"
      }
    },
    {
      "cell_type": "code",
      "source": [
        "try:\n",
        "    # Attempt to open the file for reading\n",
        "    with open('example.txt', 'r') as file:\n",
        "        # Read and print the contents of the file\n",
        "        for line in file:\n",
        "            print(line, end='')\n",
        "\n",
        "except FileNotFoundError:\n",
        "    print(\"The file does not exist.\")\n"
      ],
      "metadata": {
        "colab": {
          "base_uri": "https://localhost:8080/"
        },
        "id": "fm8geZONVm8O",
        "outputId": "d14b3595-df16-4553-f78b-b33ccaf6fcff"
      },
      "execution_count": 3,
      "outputs": [
        {
          "output_type": "stream",
          "name": "stdout",
          "text": [
            "Hello, this is a string written to the file."
          ]
        }
      ]
    },
    {
      "cell_type": "markdown",
      "source": [
        "4. Write a Python script that reads from one file and writes its content to another file?"
      ],
      "metadata": {
        "id": "m-s4V6gIVx0n"
      }
    },
    {
      "cell_type": "code",
      "source": [
        "with open('destination.txt', 'a') as dest_file:\n",
        "\n",
        "        dest_file.write(line)\n"
      ],
      "metadata": {
        "id": "rIz5_XdeWnXQ"
      },
      "execution_count": 11,
      "outputs": []
    },
    {
      "cell_type": "markdown",
      "source": [
        "5. How would you catch and handle division by zero error in Python?"
      ],
      "metadata": {
        "id": "GRn0H6lWW1Y7"
      }
    },
    {
      "cell_type": "code",
      "source": [
        "try:\n",
        "    # Attempt to divide by zero\n",
        "    result = 10 / 0\n",
        "except ZeroDivisionError:\n",
        "    print(\"Error: Division by zero is not allowed.\")\n",
        "else:\n",
        "    print(f\"The result is {result}\")\n"
      ],
      "metadata": {
        "colab": {
          "base_uri": "https://localhost:8080/"
        },
        "id": "8eACaY8qW5uV",
        "outputId": "a4dbec33-0075-4929-85e2-a334e4a6316c"
      },
      "execution_count": 12,
      "outputs": [
        {
          "output_type": "stream",
          "name": "stdout",
          "text": [
            "Error: Division by zero is not allowed.\n"
          ]
        }
      ]
    },
    {
      "cell_type": "markdown",
      "source": [
        "6. Write a Python program that logs an error message to a log file when a division by zero exception occurs?"
      ],
      "metadata": {
        "id": "iaCeyrRlXApS"
      }
    },
    {
      "cell_type": "code",
      "source": [
        "import logging\n",
        "\n",
        "# Configure logging\n",
        "logging.basicConfig(filename='error_log.txt', level=logging.ERROR,\n",
        "                    format='%(asctime)s - %(levelname)s - %(message)s')\n",
        "\n",
        "def divide_numbers(a, b):\n",
        "    try:\n",
        "        result = a / b\n",
        "        print(f\"The result of {a} divided by {b} is {result}\")\n",
        "    except ZeroDivisionError as e:\n",
        "        logging.error(\"Attempted to divide by zero\")\n",
        "        print(\"Error: Cannot divide by zero.\")\n",
        "\n",
        "# Example usage\n",
        "divide_numbers(10, 0)\n"
      ],
      "metadata": {
        "colab": {
          "base_uri": "https://localhost:8080/"
        },
        "id": "gQLjnZz7XG9u",
        "outputId": "550f66fe-a940-46f9-d00e-8926eee9fe65"
      },
      "execution_count": 13,
      "outputs": [
        {
          "output_type": "stream",
          "name": "stderr",
          "text": [
            "ERROR:root:Attempted to divide by zero\n"
          ]
        },
        {
          "output_type": "stream",
          "name": "stdout",
          "text": [
            "Error: Cannot divide by zero.\n"
          ]
        }
      ]
    },
    {
      "cell_type": "markdown",
      "source": [
        "7. How do you log information at different levels (INFO, ERROR, WARNING) in Python using the logging module?"
      ],
      "metadata": {
        "id": "DH60sQNuXOQn"
      }
    },
    {
      "cell_type": "code",
      "source": [
        "import logging\n",
        "\n",
        "# Configure logging\n",
        "logging.basicConfig(filename='application.log', level=logging.DEBUG,\n",
        "                    format='%(asctime)s - %(levelname)s - %(message)s')\n",
        "\n",
        "def log_messages():\n",
        "    # Logging messages at different levels\n",
        "    logging.debug(\"This is a debug message, for detailed troubleshooting.\")\n",
        "    logging.info(\"This is an informational message, general status updates.\")\n",
        "    logging.warning(\"This is a warning message, something unexpected but not critical.\")\n",
        "    logging.error(\"This is an error message, indicating an issue that needs attention.\")\n",
        "    logging.critical(\"This is a critical message, indicating a severe problem.\")\n",
        "\n",
        "# Example usage\n",
        "log_messages()\n"
      ],
      "metadata": {
        "colab": {
          "base_uri": "https://localhost:8080/"
        },
        "id": "YG7vn45mXVE5",
        "outputId": "0ddb579f-c88c-4dd1-87b7-acafc38f6be9"
      },
      "execution_count": 14,
      "outputs": [
        {
          "output_type": "stream",
          "name": "stderr",
          "text": [
            "WARNING:root:This is a warning message, something unexpected but not critical.\n",
            "ERROR:root:This is an error message, indicating an issue that needs attention.\n",
            "CRITICAL:root:This is a critical message, indicating a severe problem.\n"
          ]
        }
      ]
    },
    {
      "cell_type": "markdown",
      "source": [
        "8. Write a program to handle a file opening error using exception handling?"
      ],
      "metadata": {
        "id": "rAGcEP0gXd1M"
      }
    },
    {
      "cell_type": "code",
      "source": [
        "try:\n",
        "    # Attempting to open a file\n",
        "    file_name = \"non_existent_file.txt\"\n",
        "    file = open(file_name, 'r')\n",
        "    content = file.read()\n",
        "    print(content)\n",
        "except FileNotFoundError:\n",
        "    print(f\"Error: The file '{file_name}' was not found.\")\n",
        "except IOError as e:\n",
        "    print(f\"Error: An I/O error occurred while trying to open the file. Details: {e}\")\n",
        "else:\n",
        "    print(\"File opened and read successfully.\")\n",
        "    file.close()\n",
        "finally:\n",
        "    print(\"Execution finished.\")\n"
      ],
      "metadata": {
        "colab": {
          "base_uri": "https://localhost:8080/"
        },
        "id": "s5hgI7tXXjK4",
        "outputId": "456789b4-b22b-485d-d05a-f0ee87b0280f"
      },
      "execution_count": 15,
      "outputs": [
        {
          "output_type": "stream",
          "name": "stdout",
          "text": [
            "Error: The file 'non_existent_file.txt' was not found.\n",
            "Execution finished.\n"
          ]
        }
      ]
    },
    {
      "cell_type": "markdown",
      "source": [
        "9. How can you read a file line by line and store its content in a list in Python?"
      ],
      "metadata": {
        "id": "EUB4L_6WXtS_"
      }
    },
    {
      "cell_type": "code",
      "source": [
        "# Open the file in read mode\n",
        "with open('file.txt', 'r') as file:\n",
        "    # Use readlines to get all lines as a list\n",
        "    lines = file.readlines()\n",
        "\n",
        "# Strip newline characters from each line\n",
        "lines = [line.strip() for line in lines]\n",
        "\n",
        "# Print the list of lines\n",
        "print(lines)\n"
      ],
      "metadata": {
        "colab": {
          "base_uri": "https://localhost:8080/"
        },
        "id": "VUMVbEolYnAp",
        "outputId": "e1062ad6-e2a1-4b59-d1fe-4b3f16033eb8"
      },
      "execution_count": 21,
      "outputs": [
        {
          "output_type": "stream",
          "name": "stdout",
          "text": [
            "[]\n"
          ]
        }
      ]
    },
    {
      "cell_type": "markdown",
      "source": [
        "10. How can you append data to an existing file in Python?"
      ],
      "metadata": {
        "id": "f-dxJomPYrad"
      }
    },
    {
      "cell_type": "code",
      "source": [
        "# Data to append\n",
        "data_to_append = \"This is a new line to append.\\n\"\n",
        "\n",
        "# Open the file in append mode ('a')\n",
        "with open('file.txt', 'a') as file:\n",
        "    # Write the data to the file\n",
        "    file.write(data_to_append)\n",
        "\n",
        "print(\"Data appended successfully.\")\n"
      ],
      "metadata": {
        "colab": {
          "base_uri": "https://localhost:8080/"
        },
        "id": "z7j5kBSFYyu9",
        "outputId": "2e55519a-8eaa-4363-ba6d-0b0a1ec29598"
      },
      "execution_count": 22,
      "outputs": [
        {
          "output_type": "stream",
          "name": "stdout",
          "text": [
            "Data appended successfully.\n"
          ]
        }
      ]
    },
    {
      "cell_type": "markdown",
      "source": [
        "11. Write a Python program that uses a try-except block to handle an error when attempting to access a\n",
        "dictionary key that doesn't exist?"
      ],
      "metadata": {
        "id": "dJ8YbUb9Y5Iv"
      }
    },
    {
      "cell_type": "code",
      "source": [
        "# Example dictionary\n",
        "my_dict = {\"name\": \"Alice\", \"age\": 25}\n",
        "\n",
        "# Key to access\n",
        "key_to_access = \"address\"\n",
        "\n",
        "try:\n",
        "    # Attempt to access a key in the dictionary\n",
        "    value = my_dict[key_to_access]\n",
        "    print(f\"The value for '{key_to_access}' is {value}\")\n",
        "except KeyError:\n",
        "    # Handle the case where the key does not exist in the dictionary\n",
        "    print(f\"Error: The key '{key_to_access}' does not exist in the dictionary.\")\n"
      ],
      "metadata": {
        "colab": {
          "base_uri": "https://localhost:8080/"
        },
        "id": "VihRPuJkZLv8",
        "outputId": "6c98317c-f7d0-4760-9028-4f3bd3e5c2d9"
      },
      "execution_count": 23,
      "outputs": [
        {
          "output_type": "stream",
          "name": "stdout",
          "text": [
            "Error: The key 'address' does not exist in the dictionary.\n"
          ]
        }
      ]
    },
    {
      "cell_type": "markdown",
      "source": [
        "12. Write a program that demonstrates using multiple except blocks to handle different types of exceptions?"
      ],
      "metadata": {
        "id": "TwbHFTnaZQB3"
      }
    },
    {
      "cell_type": "code",
      "source": [
        "def divide_numbers():\n",
        "    try:\n",
        "        # User input for numbers\n",
        "        num1 = float(input(\"Enter the first number: \"))\n",
        "        num2 = float(input(\"Enter the second number: \"))\n",
        "\n",
        "        # Attempting division\n",
        "        result = num1 / num2\n",
        "        print(f\"The result of {num1} divided by {num2} is: {result}\")\n",
        "\n",
        "    except ZeroDivisionError:\n",
        "        print(\"Error: You cannot divide by zero!\")\n",
        "\n",
        "    except ValueError:\n",
        "        print(\"Error: Invalid input! Please enter numerical values.\")\n",
        "\n",
        "    except Exception as e:\n",
        "        print(f\"An unexpected error occurred: {e}\")\n",
        "\n",
        "# Call the function to test exception handling\n",
        "divide_numbers()\n"
      ],
      "metadata": {
        "colab": {
          "base_uri": "https://localhost:8080/"
        },
        "id": "3fo0UAqHZyZY",
        "outputId": "c596b5f0-9547-4056-bf54-5576f72a0616"
      },
      "execution_count": 25,
      "outputs": [
        {
          "output_type": "stream",
          "name": "stdout",
          "text": [
            "Enter the first number: 1.2\n",
            "Enter the second number: 2.5\n",
            "The result of 1.2 divided by 2.5 is: 0.48\n"
          ]
        }
      ]
    },
    {
      "cell_type": "markdown",
      "source": [
        "13. How would you check if a file exists before attempting to read it in Python?"
      ],
      "metadata": {
        "id": "fsJEVSFQaCCt"
      }
    },
    {
      "cell_type": "code",
      "source": [
        "import os\n",
        "\n",
        "file_path = \"example.txt\"\n",
        "\n",
        "if os.path.exists(file_path):\n",
        "    try:\n",
        "        with open(file_path, 'r') as file:\n",
        "            content = file.read()\n",
        "            print(\"File content:\\n\", content)\n",
        "    except Exception as e:\n",
        "        print(f\"An error occurred while reading the file: {e}\")\n",
        "else:\n",
        "    print(f\"The file {file_path} does not exist.\")\n"
      ],
      "metadata": {
        "colab": {
          "base_uri": "https://localhost:8080/"
        },
        "id": "2IGgWKeaaRX8",
        "outputId": "7131f218-ba67-4872-cf4c-a5ef314d7dcc"
      },
      "execution_count": 26,
      "outputs": [
        {
          "output_type": "stream",
          "name": "stdout",
          "text": [
            "File content:\n",
            " Hello, this is a string written to the file.\n"
          ]
        }
      ]
    },
    {
      "cell_type": "markdown",
      "source": [
        "14. Write a program that uses the logging module to log both informational and error messages?\n"
      ],
      "metadata": {
        "id": "sYyS4y-uaVXl"
      }
    },
    {
      "cell_type": "code",
      "source": [
        "import logging\n",
        "\n",
        "# Configure the logging settings\n",
        "logging.basicConfig(\n",
        "    level=logging.DEBUG,  # Set the logging level to DEBUG to capture all messages\n",
        "    format='%(asctime)s - %(levelname)s - %(message)s',  # Define the log message format\n",
        "    handlers=[logging.StreamHandler()]  # Print log messages to the console\n",
        ")\n",
        "\n",
        "def perform_operations():\n",
        "    logging.info(\"Starting the operations...\")\n",
        "\n",
        "    try:\n",
        "        # Example of an informational log\n",
        "        logging.info(\"Attempting to divide 10 by 2.\")\n",
        "        result = 10 / 2\n",
        "        logging.info(f\"Division result: {result}\")\n",
        "\n",
        "        # Example of an operation that will cause an error\n",
        "        logging.info(\"Attempting to divide 10 by 0.\")\n",
        "        result = 10 / 0  # This will raise a ZeroDivisionError\n",
        "\n",
        "    except ZeroDivisionError:\n",
        "        logging.error(\"Error: Division by zero occurred!\")\n",
        "    except Exception as e:\n",
        "        logging.error(f\"An unexpected error occurred: {e}\")\n",
        "\n",
        "# Call the function to perform the operations\n",
        "perform_operations()\n"
      ],
      "metadata": {
        "colab": {
          "base_uri": "https://localhost:8080/"
        },
        "id": "wASE28NuabXM",
        "outputId": "9c3cee63-6cc0-4a85-9b9d-c1f8bc0a0051"
      },
      "execution_count": 27,
      "outputs": [
        {
          "output_type": "stream",
          "name": "stderr",
          "text": [
            "ERROR:root:Error: Division by zero occurred!\n"
          ]
        }
      ]
    },
    {
      "cell_type": "markdown",
      "source": [
        "15. Write a Python program that prints the content of a file and handles the case when the file is empty?"
      ],
      "metadata": {
        "id": "6yOGxO-QaoS-"
      }
    },
    {
      "cell_type": "code",
      "source": [
        "def read_file(file_path):\n",
        "    try:\n",
        "        with open(file_path, 'r') as file:\n",
        "            content = file.read()\n",
        "            if not content:  # Check if the content is empty\n",
        "                print(\"The file is empty.\")\n",
        "            else:\n",
        "                print(\"File content:\\n\", content)\n",
        "    except FileNotFoundError:\n",
        "        print(f\"The file '{file_path}' does not exist.\")\n",
        "    except Exception as e:\n",
        "        print(f\"An error occurred: {e}\")\n",
        "\n",
        "# Specify the path to your file\n",
        "file_path = \"example.txt\"\n",
        "\n",
        "# Call the function to read and print the file content\n",
        "read_file(file_path)\n"
      ],
      "metadata": {
        "colab": {
          "base_uri": "https://localhost:8080/"
        },
        "id": "kqXGh9f_as1A",
        "outputId": "da4266c2-8b63-4160-ad2d-2d9155ebcd52"
      },
      "execution_count": 28,
      "outputs": [
        {
          "output_type": "stream",
          "name": "stdout",
          "text": [
            "File content:\n",
            " Hello, this is a string written to the file.\n"
          ]
        }
      ]
    },
    {
      "cell_type": "markdown",
      "source": [
        "16.  Demonstrate how to use memory profiling to check the memory usage of a small program?\n"
      ],
      "metadata": {
        "id": "Ukc_JtD9a3q7"
      }
    },
    {
      "cell_type": "code",
      "source": [
        "\n",
        "def process_data():\n",
        "    data = [i for i in range(100000)]  # A large list\n",
        "    squared_data = [x**2 for x in data]  # Square each element\n",
        "    return squared_data\n",
        "\n",
        "if __name__ == \"__main__\":\n",
        "    result = process_data()\n",
        "\n"
      ],
      "metadata": {
        "id": "NjOeDGRPbtb9"
      },
      "execution_count": 36,
      "outputs": []
    },
    {
      "cell_type": "markdown",
      "source": [
        "17. Write a Python program to create and write a list of numbers to a file, one number per line?"
      ],
      "metadata": {
        "id": "UtJoW2KdcD_G"
      }
    },
    {
      "cell_type": "code",
      "source": [
        "def write_numbers_to_file(file_path):\n",
        "    # A list of numbers to be written to the file\n",
        "    numbers = [1, 2, 3, 4, 5, 6, 7, 8, 9, 10]\n",
        "\n",
        "    try:\n",
        "        # Open the file in write mode\n",
        "        with open(file_path, 'w') as file:\n",
        "            # Write each number to the file, one per line\n",
        "            for number in numbers:\n",
        "                file.write(f\"{number}\\n\")\n",
        "        print(f\"Numbers have been written to {file_path} successfully.\")\n",
        "    except Exception as e:\n",
        "        print(f\"An error occurred while writing to the file: {e}\")\n",
        "\n",
        "# Specify the path where the file will be saved\n",
        "file_path = \"numbers.txt\"\n",
        "\n",
        "# Call the function to write numbers to the file\n",
        "write_numbers_to_file(file_path)\n"
      ],
      "metadata": {
        "colab": {
          "base_uri": "https://localhost:8080/"
        },
        "id": "VV_ehzDpcJ3e",
        "outputId": "88d839df-b1a8-4570-8a8a-ae2ae4d41c5e"
      },
      "execution_count": 37,
      "outputs": [
        {
          "output_type": "stream",
          "name": "stdout",
          "text": [
            "Numbers have been written to numbers.txt successfully.\n"
          ]
        }
      ]
    },
    {
      "cell_type": "markdown",
      "source": [
        "18. How would you implement a basic logging setup that logs to a file with rotation after 1MB?"
      ],
      "metadata": {
        "id": "lu6E7s0zcPua"
      }
    },
    {
      "cell_type": "code",
      "source": [
        "import logging\n",
        "from logging.handlers import RotatingFileHandler\n",
        "\n",
        "# Set up logging configuration\n",
        "log_file = \"app.log\"\n",
        "\n",
        "# Create a RotatingFileHandler that will rotate the log file when it reaches 1MB\n",
        "handler = RotatingFileHandler(log_file, maxBytes=1 * 1024 * 1024, backupCount=3)  # 1MB and keep 3 backups\n",
        "\n",
        "# Create a logging formatter\n",
        "formatter = logging.Formatter('%(asctime)s - %(levelname)s - %(message)s')\n",
        "\n",
        "# Set the formatter for the handler\n",
        "handler.setFormatter(formatter)\n",
        "\n",
        "# Set up the logger\n",
        "logger = logging.getLogger()\n",
        "logger.setLevel(logging.DEBUG)  # Log all levels (DEBUG and above)\n",
        "logger.addHandler(handler)\n",
        "\n",
        "# Test logging\n",
        "logger.debug(\"This is a debug message\")\n",
        "logger.info(\"This is an info message\")\n",
        "logger.warning(\"This is a warning message\")\n",
        "logger.error(\"This is an error message\")\n",
        "logger.critical(\"This is a critical message\")\n"
      ],
      "metadata": {
        "colab": {
          "base_uri": "https://localhost:8080/"
        },
        "id": "MIwKh-VvcXvm",
        "outputId": "e763d347-a179-4f88-c9e3-c0cde86173ae"
      },
      "execution_count": 38,
      "outputs": [
        {
          "output_type": "stream",
          "name": "stderr",
          "text": [
            "DEBUG:root:This is a debug message\n",
            "INFO:root:This is an info message\n",
            "WARNING:root:This is a warning message\n",
            "ERROR:root:This is an error message\n",
            "CRITICAL:root:This is a critical message\n"
          ]
        }
      ]
    },
    {
      "cell_type": "markdown",
      "source": [
        "19. Write a program that handles both IndexError and KeyError using a try-except block?"
      ],
      "metadata": {
        "id": "OakxgIfhcd37"
      }
    },
    {
      "cell_type": "code",
      "source": [
        "def handle_errors():\n",
        "    # Example list and dictionary\n",
        "    my_list = [1, 2, 3]\n",
        "    my_dict = {\"a\": 1, \"b\": 2}\n",
        "\n",
        "    try:\n",
        "        # Trigger an IndexError by accessing an invalid index\n",
        "        print(my_list[5])\n",
        "\n",
        "        # Trigger a KeyError by accessing a nonexistent key\n",
        "        print(my_dict[\"c\"])\n",
        "\n",
        "    except IndexError as ie:\n",
        "        print(f\"IndexError occurred: {ie}\")\n",
        "\n",
        "    except KeyError as ke:\n",
        "        print(f\"KeyError occurred: {ke}\")\n",
        "\n",
        "# Call the function to test the error handling\n",
        "handle_errors()\n"
      ],
      "metadata": {
        "colab": {
          "base_uri": "https://localhost:8080/"
        },
        "id": "4ztEQobVcmEx",
        "outputId": "19996262-2674-4b37-96b2-016915e2fc74"
      },
      "execution_count": 39,
      "outputs": [
        {
          "output_type": "stream",
          "name": "stdout",
          "text": [
            "IndexError occurred: list index out of range\n"
          ]
        }
      ]
    },
    {
      "cell_type": "markdown",
      "source": [
        "20. How would you open a file and read its contents using a context manager in Python?"
      ],
      "metadata": {
        "id": "gJb8rrRlctnl"
      }
    },
    {
      "cell_type": "code",
      "source": [
        "def read_file(file_path):\n",
        "    try:\n",
        "        # Open the file using a context manager (with statement)\n",
        "        with open(file_path, 'r') as file:\n",
        "            content = file.read()\n",
        "            print(content)\n",
        "    except FileNotFoundError:\n",
        "        print(f\"The file at {file_path} was not found.\")\n",
        "    except Exception as e:\n",
        "        print(f\"An error occurred: {e}\")\n",
        "\n",
        "# Specify the path to the file you want to read\n",
        "file_path = \"example.txt\"\n",
        "\n",
        "# Call the function to read the file\n",
        "read_file(file_path)\n"
      ],
      "metadata": {
        "colab": {
          "base_uri": "https://localhost:8080/"
        },
        "id": "hyn6MvP4cy5O",
        "outputId": "6c8a91bd-178f-4e56-c263-af5efafaeb14"
      },
      "execution_count": 40,
      "outputs": [
        {
          "output_type": "stream",
          "name": "stdout",
          "text": [
            "Hello, this is a string written to the file.\n"
          ]
        }
      ]
    },
    {
      "cell_type": "markdown",
      "source": [
        "21. Write a Python program that reads a file and prints the number of occurrences of a specific word?"
      ],
      "metadata": {
        "id": "DA3r9OUXc5s8"
      }
    },
    {
      "cell_type": "code",
      "source": [
        "def count_word_occurrences(file_path, word_to_count):\n",
        "    try:\n",
        "        # Open the file using a context manager\n",
        "        with open(file_path, 'r') as file:\n",
        "            content = file.read()\n",
        "\n",
        "        # Count the occurrences of the specified word\n",
        "        word_count = content.lower().split().count(word_to_count.lower())  # Case insensitive count\n",
        "\n",
        "        print(f\"The word '{word_to_count}' appears {word_count} times in the file.\")\n",
        "\n",
        "    except FileNotFoundError:\n",
        "        print(f\"The file at {file_path} was not found.\")\n",
        "    except Exception as e:\n",
        "        print(f\"An error occurred: {e}\")\n",
        "\n",
        "# Specify the file path and the word to count\n",
        "file_path = \"example.txt\"\n",
        "word_to_count = \"python\"\n",
        "\n",
        "# Call the function to count occurrences of the word\n",
        "count_word_occurrences(file_path, word_to_count)\n"
      ],
      "metadata": {
        "colab": {
          "base_uri": "https://localhost:8080/"
        },
        "id": "KMj6vU0kc_Lc",
        "outputId": "e3e68e47-e85b-4127-c31e-6a8754698e6c"
      },
      "execution_count": 41,
      "outputs": [
        {
          "output_type": "stream",
          "name": "stdout",
          "text": [
            "The word 'python' appears 0 times in the file.\n"
          ]
        }
      ]
    },
    {
      "cell_type": "markdown",
      "source": [
        "22. How can you check if a file is empty before attempting to read its contents?"
      ],
      "metadata": {
        "id": "yAH-6Ei2dFMA"
      }
    },
    {
      "cell_type": "code",
      "source": [
        "def read_file_if_not_empty(file_path):\n",
        "    try:\n",
        "        with open(file_path, 'r') as file:\n",
        "            content = file.read()\n",
        "\n",
        "            # Check if the content is empty\n",
        "            if not content:\n",
        "                print(f\"The file {file_path} is empty.\")\n",
        "            else:\n",
        "                print(\"File content:\")\n",
        "                print(content)\n",
        "\n",
        "    except FileNotFoundError:\n",
        "        print(f\"The file at {file_path} does not exist.\")\n",
        "    except Exception as e:\n",
        "        print(f\"An error occurred: {e}\")\n",
        "\n",
        "# Specify the file path\n",
        "file_path = \"example.txt\"\n",
        "\n",
        "# Call the function\n",
        "read_file_if_not_empty(file_path)\n"
      ],
      "metadata": {
        "colab": {
          "base_uri": "https://localhost:8080/"
        },
        "id": "TF7yAg0PdUmp",
        "outputId": "001d51cf-89ff-4904-90bd-ae92481a0001"
      },
      "execution_count": 42,
      "outputs": [
        {
          "output_type": "stream",
          "name": "stdout",
          "text": [
            "File content:\n",
            "Hello, this is a string written to the file.\n"
          ]
        }
      ]
    },
    {
      "cell_type": "markdown",
      "source": [
        "23. Write a Python program that writes to a log file when an error occurs during file handling?"
      ],
      "metadata": {
        "id": "SCh9R6DCdYmj"
      }
    },
    {
      "cell_type": "code",
      "source": [
        "import logging\n",
        "\n",
        "# Set up the logging configuration\n",
        "logging.basicConfig(\n",
        "    filename='error_log.txt',  # Log file where errors will be recorded\n",
        "    level=logging.ERROR,  # Log only ERROR and more severe messages\n",
        "    format='%(asctime)s - %(levelname)s - %(message)s'  # Log format\n",
        ")\n",
        "\n",
        "def read_file(file_path):\n",
        "    try:\n",
        "        # Attempt to open and read the file\n",
        "        with open(file_path, 'r') as file:\n",
        "            content = file.read()\n",
        "            print(content)\n",
        "\n",
        "    except FileNotFoundError as fnf_error:\n",
        "        # Log the error when the file is not found\n",
        "        logging.error(f\"FileNotFoundError: {fnf_error}\")\n",
        "        print(f\"Error: The file '{file_path}' was not found.\")\n",
        "\n",
        "    except PermissionError as perm_error:\n",
        "        # Log the error when there is a permission issue\n",
        "        logging.error(f\"PermissionError: {perm_error}\")\n",
        "        print(f\"Error: Permission denied for the file '{file_path}'.\")\n",
        "\n",
        "    except Exception as e:\n",
        "        # Log any other general errors\n",
        "        logging.error(f\"Unexpected error: {e}\")\n",
        "        print(f\"An unexpected error occurred: {e}\")\n",
        "\n",
        "# Specify the file path\n",
        "file_path = \"example.txt\"\n",
        "\n",
        "# Call the function to read the file\n",
        "read_file(file_path)\n"
      ],
      "metadata": {
        "colab": {
          "base_uri": "https://localhost:8080/"
        },
        "id": "gbat1Ry5dfCF",
        "outputId": "3300d7f1-be5c-4d72-c6e3-2b971ca3bbe2"
      },
      "execution_count": 43,
      "outputs": [
        {
          "output_type": "stream",
          "name": "stdout",
          "text": [
            "Hello, this is a string written to the file.\n"
          ]
        }
      ]
    }
  ]
}